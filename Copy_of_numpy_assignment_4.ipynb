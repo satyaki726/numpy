{
 "cells": [
  {
   "cell_type": "code",
   "execution_count": 0,
   "metadata": {
    "colab": {},
    "colab_type": "code",
    "id": "LYAs5f4MUyqX"
   },
   "outputs": [],
   "source": [
    "import numpy as np"
   ]
  },
  {
   "cell_type": "code",
   "execution_count": 0,
   "metadata": {
    "colab": {
     "base_uri": "https://localhost:8080/",
     "height": 84
    },
    "colab_type": "code",
    "id": "kith96zaU3v4",
    "outputId": "49fb2a2b-3da7-4829-a399-f350c73c11e4"
   },
   "outputs": [
    {
     "data": {
      "text/plain": [
       "array([[ 0,  1,  2,  3,  4],\n",
       "       [ 5,  6,  7,  8,  9],\n",
       "       [10, 11, 12, 13, 14],\n",
       "       [15, 16, 17, 18, 19]])"
      ]
     },
     "execution_count": 3,
     "metadata": {
      "tags": []
     },
     "output_type": "execute_result"
    }
   ],
   "source": [
    "arr1=np.arange(20).reshape(4,5)\n",
    "arr1"
   ]
  },
  {
   "cell_type": "code",
   "execution_count": 0,
   "metadata": {
    "colab": {},
    "colab_type": "code",
    "id": "hSQuEs7WVpXk"
   },
   "outputs": [],
   "source": [
    "# Q1 Write a numpy code to swap col1([0,5,10,15]) with col4([3,8,13,18])\n",
    "# Hint----> Fancy Indexing"
   ]
  },
  {
   "cell_type": "code",
   "execution_count": 0,
   "metadata": {
    "colab": {
     "base_uri": "https://localhost:8080/",
     "height": 84
    },
    "colab_type": "code",
    "id": "INwON5HW5yUR",
    "outputId": "06fd7966-e63a-414e-ddcf-c21ca592684c"
   },
   "outputs": [
    {
     "data": {
      "text/plain": [
       "array([[ 3,  1,  2,  0,  4],\n",
       "       [ 8,  6,  7,  5,  9],\n",
       "       [13, 11, 12, 10, 14],\n",
       "       [18, 16, 17, 15, 19]])"
      ]
     },
     "execution_count": 4,
     "metadata": {
      "tags": []
     },
     "output_type": "execute_result"
    }
   ],
   "source": [
    "arr0=arr1.copy()\n",
    "arr0[:,[0,3]]=arr0[:,[3,0]]\n",
    "arr0"
   ]
  },
  {
   "cell_type": "code",
   "execution_count": 0,
   "metadata": {
    "colab": {},
    "colab_type": "code",
    "id": "qzrMoxJSWOEm"
   },
   "outputs": [],
   "source": [
    "# Q2 Write a numpy code to reverse the rows of arr1\n",
    "# The output should be [15, 16, 17, 18, 19] as first row and [ 0,  1,  2,  3,  4] as last row"
   ]
  },
  {
   "cell_type": "code",
   "execution_count": 0,
   "metadata": {
    "colab": {
     "base_uri": "https://localhost:8080/",
     "height": 84
    },
    "colab_type": "code",
    "id": "gdeRUn2M6S6n",
    "outputId": "c0d3b439-d8e4-43e4-92be-783a297f9e78"
   },
   "outputs": [
    {
     "data": {
      "text/plain": [
       "array([[ 0,  1,  2,  3,  4],\n",
       "       [ 5,  6,  7,  8,  9],\n",
       "       [10, 11, 12, 13, 14],\n",
       "       [15, 16, 17, 18, 19]])"
      ]
     },
     "execution_count": 6,
     "metadata": {
      "tags": []
     },
     "output_type": "execute_result"
    }
   ],
   "source": [
    "arr1"
   ]
  },
  {
   "cell_type": "code",
   "execution_count": 0,
   "metadata": {
    "colab": {
     "base_uri": "https://localhost:8080/",
     "height": 84
    },
    "colab_type": "code",
    "id": "txw3tl7B63t2",
    "outputId": "ef3ed180-dfbc-40bc-8360-32b43c23f47d"
   },
   "outputs": [
    {
     "data": {
      "text/plain": [
       "array([[15, 16, 17, 18, 19],\n",
       "       [ 5,  6,  7,  8,  9],\n",
       "       [10, 11, 12, 13, 14],\n",
       "       [ 0,  1,  2,  3,  4]])"
      ]
     },
     "execution_count": 8,
     "metadata": {
      "tags": []
     },
     "output_type": "execute_result"
    }
   ],
   "source": [
    "arr5=arr1.copy()\n",
    "arr5[[0,3]]=arr5[[3,0]]\n",
    "arr5"
   ]
  },
  {
   "cell_type": "code",
   "execution_count": 0,
   "metadata": {
    "colab": {
     "base_uri": "https://localhost:8080/",
     "height": 67
    },
    "colab_type": "code",
    "id": "qU9DW6vQWivF",
    "outputId": "9ed80ef2-ef66-4d00-d3ce-83cbacaaea34"
   },
   "outputs": [
    {
     "data": {
      "text/plain": [
       "array([[ 1.,  2., nan],\n",
       "       [ 4.,  5.,  6.],\n",
       "       [nan, nan,  9.]])"
      ]
     },
     "execution_count": 9,
     "metadata": {
      "tags": []
     },
     "output_type": "execute_result"
    }
   ],
   "source": [
    "arr2=np.array([[1,2,np.nan],[4,5,6],[np.nan,np.nan,9]])\n",
    "arr2"
   ]
  },
  {
   "cell_type": "code",
   "execution_count": 0,
   "metadata": {
    "colab": {},
    "colab_type": "code",
    "id": "V9pLugRlXZCV"
   },
   "outputs": [],
   "source": [
    "# Q3 Write a code to replace all the nan(missing values) of arr2 with the mean of arr2"
   ]
  },
  {
   "cell_type": "code",
   "execution_count": 0,
   "metadata": {
    "colab": {
     "base_uri": "https://localhost:8080/",
     "height": 67
    },
    "colab_type": "code",
    "id": "aD9MuoWE7jYk",
    "outputId": "465c89c8-cf60-4ddc-c981-d5570241f021"
   },
   "outputs": [
    {
     "data": {
      "text/plain": [
       "array([[1. , 2. , 7.5],\n",
       "       [4. , 5. , 6. ],\n",
       "       [2.5, 3.5, 9. ]])"
      ]
     },
     "execution_count": 10,
     "metadata": {
      "tags": []
     },
     "output_type": "execute_result"
    }
   ],
   "source": [
    "replace=np.where(np.isnan(arr2),np.ma.array(arr2,mask=np.isnan(arr2)).mean(axis=0), arr2)\n",
    "replace"
   ]
  },
  {
   "cell_type": "code",
   "execution_count": 0,
   "metadata": {
    "colab": {
     "base_uri": "https://localhost:8080/",
     "height": 101
    },
    "colab_type": "code",
    "id": "F3tUsOivZ6Wf",
    "outputId": "05b58a2b-7211-415f-96b4-f6ee333bf240"
   },
   "outputs": [
    {
     "data": {
      "text/plain": [
       "array([[53, 32, 39, 45],\n",
       "       [46, 87, 41, 93],\n",
       "       [16, 80, 71, 41],\n",
       "       [65, 93, 68, 77],\n",
       "       [39, 46, 11, 55]])"
      ]
     },
     "execution_count": 11,
     "metadata": {
      "tags": []
     },
     "output_type": "execute_result"
    }
   ],
   "source": [
    "arr3=np.random.randint(low=1,high=100,size=20).reshape(5,4)\n",
    "arr3"
   ]
  },
  {
   "cell_type": "code",
   "execution_count": 0,
   "metadata": {
    "colab": {},
    "colab_type": "code",
    "id": "HzeC03N6aQpx"
   },
   "outputs": [],
   "source": [
    "# Q4 Write a code which can fetch all items from arr3 which are either greater than 25 or a multiple of 3"
   ]
  },
  {
   "cell_type": "code",
   "execution_count": 0,
   "metadata": {
    "colab": {
     "base_uri": "https://localhost:8080/",
     "height": 50
    },
    "colab_type": "code",
    "id": "olIHgy7J8GS9",
    "outputId": "08e22e27-2b3a-443e-fff4-f4f5017cd35c"
   },
   "outputs": [
    {
     "data": {
      "text/plain": [
       "array([53, 32, 39, 45, 46, 87, 41, 93, 80, 71, 41, 65, 93, 68, 77, 39, 46,\n",
       "       55])"
      ]
     },
     "execution_count": 12,
     "metadata": {
      "tags": []
     },
     "output_type": "execute_result"
    }
   ],
   "source": [
    "result= arr3[(arr3 % 3==0) | (arr3>25)]\n",
    "result"
   ]
  },
  {
   "cell_type": "code",
   "execution_count": 0,
   "metadata": {
    "colab": {},
    "colab_type": "code",
    "id": "PxcxU2ACa9Ri"
   },
   "outputs": [],
   "source": [
    "# Q5 Write a code to find the 10th, 25th, 50th(median) percentile of arr3\n",
    "# Percentiles are a very important concept in Statistics. If you don't know about it refer the video below\n",
    "# https://www.youtube.com/watch?v=Snf6Wpn-L4c\n",
    "# Hint: to solve this function google np.percentile()"
   ]
  },
  {
   "cell_type": "code",
   "execution_count": 0,
   "metadata": {
    "colab": {
     "base_uri": "https://localhost:8080/",
     "height": 168
    },
    "colab_type": "code",
    "id": "_8moTHWYcDCt",
    "outputId": "2730cb04-f345-4842-8920-49b4847be414"
   },
   "outputs": [
    {
     "name": "stdout",
     "output_type": "stream",
     "text": [
      "The array is: \n",
      "[[53 32 39 45]\n",
      " [46 87 41 93]\n",
      " [16 80 71 41]\n",
      " [65 93 68 77]\n",
      " [39 46 11 55]]\n",
      "10th percentile of array: 30.400000000000002\n",
      "25th percentile of array: 40.5\n",
      "50th percentile of array: 49.5\n"
     ]
    }
   ],
   "source": [
    "print(\"The array is: \")\n",
    "print(arr3)\n",
    "print(\"10th percentile of array:\",np.percentile(arr3,10))\n",
    "print(\"25th percentile of array:\",np.percentile(arr3,25))\n",
    "print(\"50th percentile of array:\",np.percentile(arr3,50))"
   ]
  },
  {
   "cell_type": "code",
   "execution_count": 0,
   "metadata": {
    "colab": {},
    "colab_type": "code",
    "id": "PueKArGr9IJh"
   },
   "outputs": [],
   "source": []
  }
 ],
 "metadata": {
  "colab": {
   "collapsed_sections": [],
   "name": "Copy of numpy-assignment-4.ipynb",
   "provenance": []
  },
  "kernelspec": {
   "display_name": "Python 3",
   "language": "python",
   "name": "python3"
  },
  "language_info": {
   "codemirror_mode": {
    "name": "ipython",
    "version": 3
   },
   "file_extension": ".py",
   "mimetype": "text/x-python",
   "name": "python",
   "nbconvert_exporter": "python",
   "pygments_lexer": "ipython3",
   "version": "3.6.5"
  }
 },
 "nbformat": 4,
 "nbformat_minor": 1
}
