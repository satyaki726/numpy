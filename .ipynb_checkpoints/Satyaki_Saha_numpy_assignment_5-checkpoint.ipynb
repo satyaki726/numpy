{
 "cells": [
  {
   "cell_type": "markdown",
   "metadata": {
    "colab_type": "text",
    "id": "HHEofVKhbKOJ"
   },
   "source": [
    "+Let me tell you a story, Once a statistician was lost in a jungle. It was pitch dark. Nothing could be seen around. The statistician was afraid but he kept moving. Suddenly, he saw a small house. He went there and knocked on the door. Someone opened the door. \n",
    "\n",
    "Guess what was the first question that came out of the statistician's mouth...\n",
    "\n",
    "Bhaiya, yahan kahin aas paas Normal Distribution milega?\n",
    "\n",
    "That's how important Normal distribution is in a Statistician's (read, Data Analyst) life. Whenever a statistician is lost in an analysis, his/her first response is to reach or find a normal distribution somewhere. \n",
    "\n",
    "![alt text](https://media2.giphy.com/media/maIEBUU5OmrMA/source.gif)\n",
    "\n",
    "Although, we are going to study Normal Distribution in future episodes:). Today I want you to get a feel of the Normal/Gaussian Distribution."
   ]
  },
  {
   "cell_type": "markdown",
   "metadata": {
    "colab_type": "text",
    "id": "udWaNZcNehRo"
   },
   "source": [
    "In a normal distribution, there are 2 things of utmost importance, Mean and the Standard Deviation. ([Read more about Normal Distribution here](https://en.wikipedia.org/wiki/Normal_distribution)).\n",
    "\n",
    "I want you to create a function which takes 2 inputs - the Mean and Standard Deviation and prints out the graph of the Normal Distribution (also known as PDF, you will find the formula in the wiki article). Assume x is given and calculate y using the pdf formula. The resultant graph would look something like this (any one of them):!\n",
    "\n",
    "![](https://upload.wikimedia.org/wikipedia/commons/thumb/7/74/Normal_Distribution_PDF.svg/340px-Normal_Distribution_PDF.svg.png)"
   ]
  },
  {
   "cell_type": "code",
   "execution_count": 0,
   "metadata": {
    "colab": {},
    "colab_type": "code",
    "id": "fhPRbXGiXaoK"
   },
   "outputs": [],
   "source": [
    "import numpy as np\n",
    "import scipy.stats\n",
    "import math\n",
    "import matplotlib.pyplot as plt\n",
    "%matplotlib inline \n",
    "# Write function code here\n",
    "def plotter(meanValue,sdValue):\n",
    "  x=np.linspace(-10,10,100)\n",
    "  u=0\n",
    "  var=1\n",
    "  sig= math.sqrt(var)\n",
    "  x= np.linspace(u-(3*sig),u+(3*sig),100)\n",
    "  plt.plot(x,scipy.stats.norm.pdf(x,u,sig))\n",
    "  plt.show()\n",
    "  \n"
   ]
  },
  {
   "cell_type": "code",
   "execution_count": 0,
   "metadata": {
    "colab": {
     "base_uri": "https://localhost:8080/",
     "height": 265
    },
    "colab_type": "code",
    "id": "n-SGcVlaUpJV",
    "outputId": "57a2b18d-4c85-4987-f317-308c9a44e420"
   },
   "outputs": [
    {
     "data": {
      "image/png": "[encoded data removed]",
      "text/plain": [
       "<Figure size 432x288 with 1 Axes>"
      ]
     },
     "metadata": {
      "tags": []
     },
     "output_type": "display_data"
    }
   ],
   "source": [
    "plotter(0,2)"
   ]
  },
  {
   "cell_type": "code",
   "execution_count": 0,
   "metadata": {
    "colab": {},
    "colab_type": "code",
    "id": "p9x7LVMBgs43"
   },
   "outputs": [],
   "source": [
    "# You have write a function which takes 2 numpy array as input and returns \"Hoga\" or \"Nahi Hoga\" \n",
    "# depending on if broadcasting is possible on those two arrays"
   ]
  },
  {
   "cell_type": "code",
   "execution_count": 0,
   "metadata": {
    "colab": {},
    "colab_type": "code",
    "id": "1G3RYovHJRYj"
   },
   "outputs": [],
   "source": [
    "# Write your logic here\n",
    "def hoga_ki_nahi(arr1,arr2):\n",
    "  if(arr1.shape == arr2.shape):\n",
    "    return \"hoga\"\n",
    "  elif(list(arr2.shape)==[1,1]):\n",
    "    return \"hoga\"\n",
    "  elif(arr1.size==arr2.size):\n",
    "    return \"hoga\"\n",
    "  elif(arr1.shape!=arr2.shape):\n",
    "    if(arr1.ndim==arr2.ndim):\n",
    "      w=arr1.shape\n",
    "      z=arr2.shape\n",
    "      dim1=arr1.ndim\n",
    "      w1=0\n",
    "      w2=0\n",
    "      while(1):\n",
    "        x=w[0]\n",
    "        p=z[0]\n",
    "        w1=w1+1\n",
    "        if(w1<dim1):\n",
    "          y=w[1]\n",
    "          q=z[1]\n",
    "        else:\n",
    "          break\n",
    "      if(y==p):\n",
    "        return \"hoga\"\n",
    "      if(x==p):\n",
    "        return \"hoga\"\n",
    "      if(x==q):\n",
    "        return \"hoga\"\n",
    "      if(y==q):\n",
    "        return \"hoga\"\n",
    "      else:\n",
    "        return \"Nahi hoga\"\n",
    "    elif(arr1.ndim!=arr2.ndim):\n",
    "      a=arr1.ndim\n",
    "      s1=arr1.shape\n",
    "      b=arr2.ndim\n",
    "      s2=arr2.shape\n",
    "      v1=0\n",
    "      v2=0\n",
    "      while(1):\n",
    "       x1=s1[0]\n",
    "       v1=v1+1\n",
    "       if(v1<a):\n",
    "          y1=s1[1] \n",
    "       else:\n",
    "          break   \n",
    "      while(1):\n",
    "        x1=s1[0]\n",
    "        v1=v1+1\n",
    "        if(v1<a):\n",
    "          y1=s1[1]\n",
    "        else:\n",
    "          break\n",
    "        while(1):\n",
    "          x2=s2[0]\n",
    "          v2=v2+1\n",
    "          if(v2<b):\n",
    "            y2=s2[1]\n",
    "          else:\n",
    "            break\n",
    "        if(x1==x2):\n",
    "          return \"hoga\"\n",
    "        if(x1==y2):\n",
    "          return \"hoga\"\n",
    "        if(y1==y2):\n",
    "          return \"hoga\"\n",
    "        if(y1==x2):\n",
    "          return \"hoga\"\n",
    "        else:\n",
    "          return \"Nahi hoga\"                                          \n",
    "  return #\"Hoga\"/\"Nahi Hoga\""
   ]
  },
  {
   "cell_type": "code",
   "execution_count": 0,
   "metadata": {
    "colab": {
     "base_uri": "https://localhost:8080/",
     "height": 34
    },
    "colab_type": "code",
    "id": "HxyIWB__JUJQ",
    "outputId": "3e092e35-1a47-4d9c-fb99-0f5ea0ee7c72"
   },
   "outputs": [
    {
     "data": {
      "text/plain": [
       "'hoga'"
      ]
     },
     "execution_count": 6,
     "metadata": {
      "tags": []
     },
     "output_type": "execute_result"
    }
   ],
   "source": [
    "# Test your function here\n",
    "arr1=np.arange(6).reshape(3,2)\n",
    "arr2=np.arange(6).reshape(2,3)\n",
    "hoga_ki_nahi(arr1,arr2)"
   ]
  },
  {
   "cell_type": "code",
   "execution_count": 0,
   "metadata": {
    "colab": {},
    "colab_type": "code",
    "id": "AQdLmuHoqXau"
   },
   "outputs": [],
   "source": []
  }
 ],
 "metadata": {
  "colab": {
   "name": "Satyaki Saha - numpy-assignment-5.ipynb",
   "provenance": []
  },
  "kernelspec": {
   "display_name": "Python 3",
   "language": "python",
   "name": "python3"
  },
  "language_info": {
   "codemirror_mode": {
    "name": "ipython",
    "version": 3
   },
   "file_extension": ".py",
   "mimetype": "text/x-python",
   "name": "python",
   "nbconvert_exporter": "python",
   "pygments_lexer": "ipython3",
   "version": "3.6.5"
  }
 },
 "nbformat": 4,
 "nbformat_minor": 1
}
