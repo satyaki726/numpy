{
 "cells": [
  {
   "cell_type": "code",
   "execution_count": 0,
   "metadata": {
    "colab": {},
    "colab_type": "code",
    "id": "T__UWLta5MWW"
   },
   "outputs": [],
   "source": [
    "def lins():\n",
    "  low=float(input(\"Enter the lower bound:\"))\n",
    "  high=float(input(\"Enter the upper bound:\"))\n",
    "  scale= float(input(\"Enter the number value to be shown in the range:\"))\n",
    "  x=high-low\n",
    "  d=scale-1\n",
    "  y=x/d\n",
    "  i=0\n",
    "  arr=[]\n",
    "  while(1):\n",
    "    if(low<=high):\n",
    "      i=i+1\n",
    "      arr.insert(i,low)\n",
    "    else:\n",
    "      break  \n",
    "    value=low+y\n",
    "    low=value\n",
    "  print(arr)   "
   ]
  },
  {
   "cell_type": "code",
   "execution_count": 0,
   "metadata": {
    "colab": {
     "base_uri": "https://localhost:8080/",
     "height": 84
    },
    "colab_type": "code",
    "id": "pOYcLT9G_-0d",
    "outputId": "96fe3372-5320-486d-b9a2-5c621ff25dcd"
   },
   "outputs": [
    {
     "name": "stdout",
     "output_type": "stream",
     "text": [
      "Enter the lower bound:1\n",
      "Enter the upper bound:100\n",
      "Enter the number value to be shown in the range:5\n",
      "[1.0, 25.75, 50.5, 75.25, 100.0]\n"
     ]
    }
   ],
   "source": [
    "lins()"
   ]
  },
  {
   "cell_type": "code",
   "execution_count": 0,
   "metadata": {
    "colab": {},
    "colab_type": "code",
    "id": "IvyNzdPpAAQ_"
   },
   "outputs": [],
   "source": [
    "1"
   ]
  }
 ],
 "metadata": {
  "colab": {
   "collapsed_sections": [],
   "name": "Satyaki Saha - Linspace.ipynb",
   "provenance": [],
   "toc_visible": true
  },
  "kernelspec": {
   "display_name": "Python 3",
   "language": "python",
   "name": "python3"
  },
  "language_info": {
   "codemirror_mode": {
    "name": "ipython",
    "version": 3
   },
   "file_extension": ".py",
   "mimetype": "text/x-python",
   "name": "python",
   "nbconvert_exporter": "python",
   "pygments_lexer": "ipython3",
   "version": "3.6.5"
  }
 },
 "nbformat": 4,
 "nbformat_minor": 1
}
